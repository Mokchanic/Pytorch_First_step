{
 "cells": [
  {
   "cell_type": "markdown",
   "metadata": {},
   "source": [
    "## Chap3 - Linear regression"
   ]
  },
  {
   "cell_type": "code",
   "execution_count": 1,
   "metadata": {},
   "outputs": [],
   "source": [
    "import torch\n",
    "import matplotlib.pyplot as plt\n",
    "X = torch.Tensor(2, 3)"
   ]
  },
  {
   "cell_type": "code",
   "execution_count": 2,
   "metadata": {},
   "outputs": [
    {
     "name": "stdout",
     "output_type": "stream",
     "text": [
      "tensor([[9.2755e-39, 1.0561e-38, 1.0286e-38],\n",
      "        [8.9082e-39, 9.2756e-39, 8.4490e-39]])\n"
     ]
    }
   ],
   "source": [
    "print(X)"
   ]
  },
  {
   "cell_type": "code",
   "execution_count": 3,
   "metadata": {},
   "outputs": [],
   "source": [
    "X = torch.Tensor([[1,2,3], [4,5,6]])"
   ]
  },
  {
   "cell_type": "code",
   "execution_count": 4,
   "metadata": {
    "scrolled": true
   },
   "outputs": [
    {
     "name": "stdout",
     "output_type": "stream",
     "text": [
      "tensor([[1., 2., 3.],\n",
      "        [4., 5., 6.]])\n"
     ]
    }
   ],
   "source": [
    "print(X)"
   ]
  },
  {
   "cell_type": "markdown",
   "metadata": {},
   "source": [
    "## 기울기를 계산하는 코드"
   ]
  },
  {
   "cell_type": "code",
   "execution_count": 5,
   "metadata": {},
   "outputs": [],
   "source": [
    "x = torch.tensor(data = [2.0, 3.0], requires_grad = True)\n",
    "y = x**2\n",
    "z = 2*y + 3"
   ]
  },
  {
   "cell_type": "code",
   "execution_count": 6,
   "metadata": {},
   "outputs": [],
   "source": [
    "target = torch.tensor([3.0, 4.0])\n",
    "loss = torch.sum(torch.abs(z-target))\n",
    "loss.backward()"
   ]
  },
  {
   "cell_type": "code",
   "execution_count": 7,
   "metadata": {},
   "outputs": [
    {
     "name": "stdout",
     "output_type": "stream",
     "text": [
      "tensor([ 8., 12.]) None None\n"
     ]
    },
    {
     "name": "stderr",
     "output_type": "stream",
     "text": [
      "<ipython-input-7-6c1d48845c75>:1: UserWarning: The .grad attribute of a Tensor that is not a leaf Tensor is being accessed. Its .grad attribute won't be populated during autograd.backward(). If you indeed want the gradient for a non-leaf Tensor, use .retain_grad() on the non-leaf Tensor. If you access the non-leaf Tensor by mistake, make sure you access the leaf Tensor instead. See github.com/pytorch/pytorch/pull/30531 for more informations.\n",
      "  print(x.grad, y.grad, z.grad)\n"
     ]
    }
   ],
   "source": [
    "print(x.grad, y.grad, z.grad)"
   ]
  },
  {
   "cell_type": "markdown",
   "metadata": {},
   "source": [
    "## 선형회귀 분석모델"
   ]
  },
  {
   "cell_type": "code",
   "execution_count": 8,
   "metadata": {},
   "outputs": [],
   "source": [
    "import torch #torch 라이브러리 불러옴\n",
    "import torch.nn as nn # torch의 신경망 모델들을 불러옴\n",
    "import torch.optim as optim # torch의 경사하강법 알고리즘을 불러옴\n",
    "import torch.nn.init as init # 텐서에 초기값을 주기 위해 필요한 함수들이 있음."
   ]
  },
  {
   "cell_type": "code",
   "execution_count": 9,
   "metadata": {},
   "outputs": [],
   "source": [
    "num_data = 1000\n",
    "num_epoch = 500\n",
    "\n",
    "x = init.uniform_(torch.Tensor(num_data, 1),-10,10)\n",
    "noise = init.normal_(torch.FloatTensor(num_data, 1), std=1)\n",
    "y = 2 * x + 3\n",
    "y_noise = y + noise"
   ]
  },
  {
   "cell_type": "code",
   "execution_count": 10,
   "metadata": {},
   "outputs": [],
   "source": [
    "model = nn.Linear(1,1)\n",
    "loss_func = nn.L1Loss()"
   ]
  },
  {
   "cell_type": "code",
   "execution_count": 11,
   "metadata": {},
   "outputs": [],
   "source": [
    "optimizer = optim.SGD(model.parameters(), lr = 0.01)"
   ]
  },
  {
   "cell_type": "code",
   "execution_count": 12,
   "metadata": {},
   "outputs": [
    {
     "name": "stdout",
     "output_type": "stream",
     "text": [
      "tensor(13.4403)\n",
      "-0.6000712513923645 -0.2860698699951172\n",
      "tensor(11.0236)\n",
      "-0.10888899862766266 -0.27496981620788574\n",
      "tensor(8.6448)\n",
      "0.3782590627670288 -0.2611497640609741\n",
      "tensor(6.3587)\n",
      "0.8545244932174683 -0.24238978326320648\n",
      "tensor(4.4549)\n",
      "1.2840107679367065 -0.20882977545261383\n",
      "tensor(3.4153)\n",
      "1.5838860273361206 -0.14914976060390472\n",
      "tensor(3.1366)\n",
      "1.71038019657135 -0.06526975333690643\n",
      "tensor(3.0143)\n",
      "1.7679417133331299 0.027410253882408142\n",
      "tensor(2.9094)\n",
      "1.8045521974563599 0.12275026738643646\n",
      "tensor(2.8087)\n",
      "1.832731008529663 0.2190302163362503\n",
      "tensor(2.7096)\n",
      "1.8547388315200806 0.3159902095794678\n",
      "tensor(2.6117)\n",
      "1.8732693195343018 0.4132101833820343\n",
      "tensor(2.5146)\n",
      "1.8874531984329224 0.5106501579284668\n",
      "tensor(2.4178)\n",
      "1.9012361764907837 0.6080501079559326\n",
      "tensor(2.3211)\n",
      "1.915019154548645 0.7054500579833984\n",
      "tensor(2.2250)\n",
      "1.9294413328170776 0.8023300766944885\n",
      "tensor(2.1308)\n",
      "1.9428517818450928 0.8984300494194031\n",
      "tensor(2.0372)\n",
      "1.9564003944396973 0.9942100048065186\n",
      "tensor(1.9454)\n",
      "1.9669384956359863 1.0893298387527466\n",
      "tensor(1.8555)\n",
      "1.9758210182189941 1.1836897134780884\n",
      "tensor(1.7665)\n",
      "1.984695553779602 1.2775096893310547\n",
      "tensor(1.6805)\n",
      "1.9882841110229492 1.3700299263000488\n",
      "tensor(1.5978)\n",
      "1.9890193939208984 1.4608501195907593\n",
      "tensor(1.5181)\n",
      "1.9905080795288086 1.549950122833252\n",
      "tensor(1.4434)\n",
      "1.992551326751709 1.6361098289489746\n",
      "tensor(1.3734)\n",
      "1.9957319498062134 1.7195098400115967\n",
      "tensor(1.3085)\n",
      "1.998666524887085 1.7997097969055176\n",
      "tensor(1.2479)\n",
      "1.997947096824646 1.8774096965789795\n",
      "tensor(1.1915)\n",
      "1.9976013898849487 1.952209711074829\n",
      "tensor(1.1406)\n",
      "1.997536063194275 2.023329734802246\n",
      "tensor(1.0953)\n",
      "1.9997915029525757 2.090209722518921\n",
      "tensor(1.0556)\n",
      "2.001589059829712 2.1529297828674316\n",
      "tensor(1.0199)\n",
      "2.000864267349243 2.2123496532440186\n",
      "tensor(0.9884)\n",
      "1.9993232488632202 2.2682697772979736\n",
      "tensor(0.9598)\n",
      "2.000014305114746 2.3214097023010254\n",
      "tensor(0.9351)\n",
      "1.9978221654891968 2.3708696365356445\n",
      "tensor(0.9133)\n",
      "1.9978926181793213 2.4172494411468506\n",
      "tensor(0.8940)\n",
      "1.9970954656600952 2.461069345474243\n",
      "tensor(0.8771)\n",
      "1.9974157810211182 2.5019092559814453\n",
      "tensor(0.8621)\n",
      "1.9955679178237915 2.5403895378112793\n",
      "tensor(0.8489)\n",
      "1.994738221168518 2.5764894485473633\n",
      "tensor(0.8375)\n",
      "1.9945038557052612 2.6101298332214355\n",
      "tensor(0.8276)\n",
      "1.9941136837005615 2.6412503719329834\n",
      "tensor(0.8189)\n",
      "1.9942291975021362 2.6704704761505127\n",
      "tensor(0.8115)\n",
      "1.9943782091140747 2.69765043258667\n",
      "tensor(0.8050)\n",
      "1.992833137512207 2.722890853881836\n",
      "tensor(0.7992)\n",
      "1.9926725625991821 2.7468509674072266\n",
      "tensor(0.7939)\n",
      "1.992202877998352 2.7697110176086426\n",
      "tensor(0.7894)\n",
      "1.9908726215362549 2.7908108234405518\n",
      "tensor(0.7854)\n",
      "1.9899370670318604 2.8107104301452637\n"
     ]
    }
   ],
   "source": [
    "label = y_noise\n",
    "loss_array = []\n",
    "for i in range(num_epoch):\n",
    "    optimizer.zero_grad()\n",
    "    output = model(x)\n",
    "    \n",
    "    loss = loss_func(output, label)\n",
    "    loss.backward()\n",
    "    optimizer.step()\n",
    "    \n",
    "    loss_array.append(loss)\n",
    "    \n",
    "    if i%10 == 0:\n",
    "        print(loss.data)\n",
    "        param_list = list(model.parameters())\n",
    "        print(param_list[0].item(), param_list[1].item())"
   ]
  },
  {
   "cell_type": "code",
   "execution_count": 13,
   "metadata": {},
   "outputs": [
    {
     "data": {
      "image/png": "[encoded data removed]",
      "text/plain": [
       "<Figure size 432x288 with 1 Axes>"
      ]
     },
     "metadata": {
      "needs_background": "light"
     },
     "output_type": "display_data"
    }
   ],
   "source": [
    "plt.plot(loss_array)\n",
    "plt.show()"
   ]
  },
  {
   "cell_type": "code",
   "execution_count": null,
   "metadata": {},
   "outputs": [],
   "source": []
  }
 ],
 "metadata": {
  "kernelspec": {
   "display_name": "Python 3",
   "language": "python",
   "name": "python3"
  },
  "language_info": {
   "codemirror_mode": {
    "name": "ipython",
    "version": 3
   },
   "file_extension": ".py",
   "mimetype": "text/x-python",
   "name": "python",
   "nbconvert_exporter": "python",
   "pygments_lexer": "ipython3",
   "version": "3.8.5"
  }
 },
 "nbformat": 4,
 "nbformat_minor": 4
}
