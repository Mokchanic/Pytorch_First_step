{
 "cells": [
  {
   "cell_type": "code",
   "execution_count": 9,
   "metadata": {},
   "outputs": [],
   "source": [
    "import torch # torch를 불러옴\n",
    "import torch.nn as nn # torch의 신경망 모델을 불러옴\n",
    "import torch.optim as optim # torch의 경사하강법 알고리즘을 불러옴\n",
    "import torch.nn.init as init # 텐서에 초기값을 주기 위해 필요한 함수들 불러옴\n",
    "import matplotlib.pyplot as plt # loss를 시각화 하기위해 plot를 만드는 라이브러리"
   ]
  },
  {
   "cell_type": "code",
   "execution_count": 3,
   "metadata": {},
   "outputs": [],
   "source": [
    "num_data = 1000\n",
    "num_epoch = 10000\n",
    "\n",
    "noise = init.normal_(torch.FloatTensor(num_data, 1), std=1)\n",
    "x = init.uniform_(torch.Tensor(num_data,1), -15, 15)\n",
    "y = (x**2) + 3\n",
    "y_noise = y + noise"
   ]
  },
  {
   "cell_type": "code",
   "execution_count": 5,
   "metadata": {},
   "outputs": [],
   "source": [
    "model = nn.Sequential(\n",
    "        nn.Linear(1,6),\n",
    "        nn.ReLU(),\n",
    "        nn.Linear(6,10),\n",
    "        nn.ReLU(),\n",
    "        nn.Linear(10,6),\n",
    "        nn.ReLU(),\n",
    "        nn.Linear(6,1),\n",
    ")"
   ]
  },
  {
   "cell_type": "code",
   "execution_count": 7,
   "metadata": {},
   "outputs": [],
   "source": [
    "loss_func = nn.L1Loss() #L1 loss를 사용\n",
    "optimizer = optim.SGD(model.parameters(), lr=0.0002) # 최적의 가중치와 편차를 근사화 하는 역할 SGD(stochastic gradient descent)\n",
    "\n",
    "loss_array = []"
   ]
  },
  {
   "cell_type": "code",
   "execution_count": 8,
   "metadata": {},
   "outputs": [],
   "source": [
    "for i in range(num_epoch):\n",
    "    optimizer.zero_grad() # 이전의 기울기 값을 0으로 초기화(다음 학습부분 기울기를 받아오기 위해서)\n",
    "    output = model(x) # 선형회귀모델에 x를 전달하고 output에 저장\n",
    "    loss = loss_func(output, y_noise) # L1손실함수 정의에 따라서 output과 y_noise 차이를 저장\n",
    "    loss.backward() # loss를 사용하여 각 변수 w, b에 대한 기울기 계산\n",
    "    optimizer.step() # 인수로 들어간 model.parameters()에서 리턴되는 변수들의 기울기에 0.0002를 곱한값을 빼줌으로 업데이트\n",
    "    loss_array.append(loss)"
   ]
  },
  {
   "cell_type": "code",
   "execution_count": 10,
   "metadata": {},
   "outputs": [
    {
     "data": {
      "image/png": "[encoded data removed]",
      "text/plain": [
       "<Figure size 432x288 with 1 Axes>"
      ]
     },
     "metadata": {
      "needs_background": "light"
     },
     "output_type": "display_data"
    }
   ],
   "source": [
    "plt.plot(loss_array)\n",
    "plt.show()"
   ]
  },
  {
   "cell_type": "code",
   "execution_count": null,
   "metadata": {},
   "outputs": [],
   "source": []
  }
 ],
 "metadata": {
  "kernelspec": {
   "display_name": "Python 3",
   "language": "python",
   "name": "python3"
  },
  "language_info": {
   "codemirror_mode": {
    "name": "ipython",
    "version": 3
   },
   "file_extension": ".py",
   "mimetype": "text/x-python",
   "name": "python",
   "nbconvert_exporter": "python",
   "pygments_lexer": "ipython3",
   "version": "3.8.5"
  }
 },
 "nbformat": 4,
 "nbformat_minor": 4
}
